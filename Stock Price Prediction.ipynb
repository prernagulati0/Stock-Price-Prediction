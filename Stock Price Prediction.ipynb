{
 "cells": [
  {
   "cell_type": "code",
   "execution_count": 1,
   "metadata": {},
   "outputs": [
    {
     "name": "stderr",
     "output_type": "stream",
     "text": [
      "Using TensorFlow backend.\n",
      "C:\\Users\\dell\\anaconda3\\lib\\site-packages\\tensorflow\\python\\framework\\dtypes.py:516: FutureWarning: Passing (type, 1) or '1type' as a synonym of type is deprecated; in a future version of numpy, it will be understood as (type, (1,)) / '(1,)type'.\n",
      "  _np_qint8 = np.dtype([(\"qint8\", np.int8, 1)])\n",
      "C:\\Users\\dell\\anaconda3\\lib\\site-packages\\tensorflow\\python\\framework\\dtypes.py:517: FutureWarning: Passing (type, 1) or '1type' as a synonym of type is deprecated; in a future version of numpy, it will be understood as (type, (1,)) / '(1,)type'.\n",
      "  _np_quint8 = np.dtype([(\"quint8\", np.uint8, 1)])\n",
      "C:\\Users\\dell\\anaconda3\\lib\\site-packages\\tensorflow\\python\\framework\\dtypes.py:518: FutureWarning: Passing (type, 1) or '1type' as a synonym of type is deprecated; in a future version of numpy, it will be understood as (type, (1,)) / '(1,)type'.\n",
      "  _np_qint16 = np.dtype([(\"qint16\", np.int16, 1)])\n",
      "C:\\Users\\dell\\anaconda3\\lib\\site-packages\\tensorflow\\python\\framework\\dtypes.py:519: FutureWarning: Passing (type, 1) or '1type' as a synonym of type is deprecated; in a future version of numpy, it will be understood as (type, (1,)) / '(1,)type'.\n",
      "  _np_quint16 = np.dtype([(\"quint16\", np.uint16, 1)])\n",
      "C:\\Users\\dell\\anaconda3\\lib\\site-packages\\tensorflow\\python\\framework\\dtypes.py:520: FutureWarning: Passing (type, 1) or '1type' as a synonym of type is deprecated; in a future version of numpy, it will be understood as (type, (1,)) / '(1,)type'.\n",
      "  _np_qint32 = np.dtype([(\"qint32\", np.int32, 1)])\n",
      "C:\\Users\\dell\\anaconda3\\lib\\site-packages\\tensorflow\\python\\framework\\dtypes.py:525: FutureWarning: Passing (type, 1) or '1type' as a synonym of type is deprecated; in a future version of numpy, it will be understood as (type, (1,)) / '(1,)type'.\n",
      "  np_resource = np.dtype([(\"resource\", np.ubyte, 1)])\n",
      "C:\\Users\\dell\\anaconda3\\lib\\site-packages\\tensorboard\\compat\\tensorflow_stub\\dtypes.py:541: FutureWarning: Passing (type, 1) or '1type' as a synonym of type is deprecated; in a future version of numpy, it will be understood as (type, (1,)) / '(1,)type'.\n",
      "  _np_qint8 = np.dtype([(\"qint8\", np.int8, 1)])\n",
      "C:\\Users\\dell\\anaconda3\\lib\\site-packages\\tensorboard\\compat\\tensorflow_stub\\dtypes.py:542: FutureWarning: Passing (type, 1) or '1type' as a synonym of type is deprecated; in a future version of numpy, it will be understood as (type, (1,)) / '(1,)type'.\n",
      "  _np_quint8 = np.dtype([(\"quint8\", np.uint8, 1)])\n",
      "C:\\Users\\dell\\anaconda3\\lib\\site-packages\\tensorboard\\compat\\tensorflow_stub\\dtypes.py:543: FutureWarning: Passing (type, 1) or '1type' as a synonym of type is deprecated; in a future version of numpy, it will be understood as (type, (1,)) / '(1,)type'.\n",
      "  _np_qint16 = np.dtype([(\"qint16\", np.int16, 1)])\n",
      "C:\\Users\\dell\\anaconda3\\lib\\site-packages\\tensorboard\\compat\\tensorflow_stub\\dtypes.py:544: FutureWarning: Passing (type, 1) or '1type' as a synonym of type is deprecated; in a future version of numpy, it will be understood as (type, (1,)) / '(1,)type'.\n",
      "  _np_quint16 = np.dtype([(\"quint16\", np.uint16, 1)])\n",
      "C:\\Users\\dell\\anaconda3\\lib\\site-packages\\tensorboard\\compat\\tensorflow_stub\\dtypes.py:545: FutureWarning: Passing (type, 1) or '1type' as a synonym of type is deprecated; in a future version of numpy, it will be understood as (type, (1,)) / '(1,)type'.\n",
      "  _np_qint32 = np.dtype([(\"qint32\", np.int32, 1)])\n",
      "C:\\Users\\dell\\anaconda3\\lib\\site-packages\\tensorboard\\compat\\tensorflow_stub\\dtypes.py:550: FutureWarning: Passing (type, 1) or '1type' as a synonym of type is deprecated; in a future version of numpy, it will be understood as (type, (1,)) / '(1,)type'.\n",
      "  np_resource = np.dtype([(\"resource\", np.ubyte, 1)])\n"
     ]
    }
   ],
   "source": [
    "#stock price prediction\n",
    "import numpy as np\n",
    "import pandas as pd\n",
    "import matplotlib.pyplot as plt\n",
    "from keras.models import Sequential\n",
    "from keras.layers import Dense, LSTM\n",
    "import math\n",
    "from sklearn.preprocessing import MinMaxScaler"
   ]
  },
  {
   "cell_type": "code",
   "execution_count": 2,
   "metadata": {},
   "outputs": [
    {
     "data": {
      "text/html": [
       "<div>\n",
       "<style scoped>\n",
       "    .dataframe tbody tr th:only-of-type {\n",
       "        vertical-align: middle;\n",
       "    }\n",
       "\n",
       "    .dataframe tbody tr th {\n",
       "        vertical-align: top;\n",
       "    }\n",
       "\n",
       "    .dataframe thead th {\n",
       "        text-align: right;\n",
       "    }\n",
       "</style>\n",
       "<table border=\"1\" class=\"dataframe\">\n",
       "  <thead>\n",
       "    <tr style=\"text-align: right;\">\n",
       "      <th></th>\n",
       "      <th>date</th>\n",
       "      <th>open</th>\n",
       "      <th>high</th>\n",
       "      <th>low</th>\n",
       "      <th>close</th>\n",
       "      <th>volume</th>\n",
       "      <th>Name</th>\n",
       "    </tr>\n",
       "  </thead>\n",
       "  <tbody>\n",
       "    <tr>\n",
       "      <th>0</th>\n",
       "      <td>08-02-13</td>\n",
       "      <td>15.07</td>\n",
       "      <td>15.12</td>\n",
       "      <td>14.63</td>\n",
       "      <td>14.75</td>\n",
       "      <td>8407500</td>\n",
       "      <td>AAL</td>\n",
       "    </tr>\n",
       "    <tr>\n",
       "      <th>1</th>\n",
       "      <td>11-02-13</td>\n",
       "      <td>14.89</td>\n",
       "      <td>15.01</td>\n",
       "      <td>14.26</td>\n",
       "      <td>14.46</td>\n",
       "      <td>8882000</td>\n",
       "      <td>AAL</td>\n",
       "    </tr>\n",
       "    <tr>\n",
       "      <th>2</th>\n",
       "      <td>12-02-13</td>\n",
       "      <td>14.45</td>\n",
       "      <td>14.51</td>\n",
       "      <td>14.10</td>\n",
       "      <td>14.27</td>\n",
       "      <td>8126000</td>\n",
       "      <td>AAL</td>\n",
       "    </tr>\n",
       "    <tr>\n",
       "      <th>3</th>\n",
       "      <td>13-02-13</td>\n",
       "      <td>14.30</td>\n",
       "      <td>14.94</td>\n",
       "      <td>14.25</td>\n",
       "      <td>14.66</td>\n",
       "      <td>10259500</td>\n",
       "      <td>AAL</td>\n",
       "    </tr>\n",
       "    <tr>\n",
       "      <th>4</th>\n",
       "      <td>14-02-13</td>\n",
       "      <td>14.94</td>\n",
       "      <td>14.96</td>\n",
       "      <td>13.16</td>\n",
       "      <td>13.99</td>\n",
       "      <td>31879900</td>\n",
       "      <td>AAL</td>\n",
       "    </tr>\n",
       "  </tbody>\n",
       "</table>\n",
       "</div>"
      ],
      "text/plain": [
       "       date   open   high    low  close    volume Name\n",
       "0  08-02-13  15.07  15.12  14.63  14.75   8407500  AAL\n",
       "1  11-02-13  14.89  15.01  14.26  14.46   8882000  AAL\n",
       "2  12-02-13  14.45  14.51  14.10  14.27   8126000  AAL\n",
       "3  13-02-13  14.30  14.94  14.25  14.66  10259500  AAL\n",
       "4  14-02-13  14.94  14.96  13.16  13.99  31879900  AAL"
      ]
     },
     "execution_count": 2,
     "metadata": {},
     "output_type": "execute_result"
    }
   ],
   "source": [
    "d=pd.read_csv(\"all_stocks_5yr..csv\")\n",
    "d.head()"
   ]
  },
  {
   "cell_type": "code",
   "execution_count": 3,
   "metadata": {},
   "outputs": [
    {
     "name": "stdout",
     "output_type": "stream",
     "text": [
      "['AAL' 'AAPL' 'AAP' 'ABBV' 'ABC' 'ADSK' 'ADS' 'AEP' 'AES' 'AET' 'AFL'\n",
      " 'AGN' 'AIG' 'AIV' 'AIZ' 'AJG' 'AMZN' 'ANDV' 'ANSS' 'ANTM' 'AON' 'AOS'\n",
      " 'APA' 'APC' 'APD' 'APH' 'APTV' 'ARE' 'ARNC' 'ATVI' 'AVB' 'AVGO' 'AVY'\n",
      " 'AWK' 'AXP' 'AYI' 'AZO' 'A' 'BAC' 'BAX' 'BA' 'BBT' 'BDX' 'BEN' 'BF.B'\n",
      " 'BHF' 'BHGE' 'BIIB' 'BK' 'BLK' 'BLL' 'BMY' 'BRK.B' 'BSX' 'BWA' 'BXP'\n",
      " 'CAG' 'CAH' 'CAT' 'CA' 'CBG' 'CBOE' 'CBS' 'CB' 'CCI' 'CCL' 'CDNS' 'CELG'\n",
      " 'CERN' 'CFG' 'CF' 'COP' 'COST' 'COTY' 'CPB' 'CRM' 'CSCO' 'CSRA' 'CSX'\n",
      " 'CTAS' 'CTL' 'CTSH' 'CTXS' 'CVS' 'CVX' 'CXO' 'C' 'DAL' 'DE' 'DFS' 'DG'\n",
      " 'DHI' 'DHR' 'DISCA' 'DISCK' 'DISH' 'DIS' 'DLR' 'DLTR' 'DOV' 'DPS' 'DRE'\n",
      " 'DRI' 'DTE' 'DUK' 'DVA' 'DVN' 'DWDP' 'DXC' 'D' 'EA' 'EBAY' 'ECL' 'ED'\n",
      " 'EFX' 'EIX' 'EL' 'EMN' 'EMR' 'EOG' 'EQIX' 'EQR' 'EQT' 'ESRX' 'ESS' 'ES'\n",
      " 'ETFC' 'ETN' 'ETR' 'EVHC' 'EW' 'EXC' 'EXPD' 'EXPE' 'EXR' 'FAST' 'FBHS'\n",
      " 'FB' 'FCX' 'FDX' 'FE' 'FFIV' 'FISV' 'FIS' 'FITB' 'FLIR' 'FLR' 'FLS' 'FL'\n",
      " 'FMC' 'FOXA' 'FOX' 'FRT' 'FTI' 'FTV' 'F' 'GD' 'GGP' 'GILD' 'GIS' 'GLW'\n",
      " 'GM' 'GOOGL' 'GOOG' 'GPC' 'GPN' 'GPS' 'GRMN' 'GS' 'GT' 'GWW' 'HAL' 'HAS'\n",
      " 'HBAN' 'HBI' 'HCA' 'HCN' 'HD' 'HES' 'HIG' 'HII' 'HLT' 'HOG' 'HOLX' 'HON'\n",
      " 'HPE' 'HPQ' 'HP' 'HRB' 'HRL' 'HRS' 'HSIC' 'HST' 'HSY' 'HUM' 'IBM' 'ICE'\n",
      " 'IDXX' 'IFF' 'ILMN' 'INCY' 'INFO' 'INTC' 'INTU' 'IPG' 'IP' 'IQV' 'IRM'\n",
      " 'IR' 'ISRG' 'ITW' 'IT' 'IVZ' 'JBHT' 'JCI' 'JEC' 'JNJ' 'JNPR' 'JPM' 'JWN'\n",
      " 'KEY' 'KHC' 'KIM' 'KLAC' 'KMB' 'KMI' 'KMX' 'KORS' 'KO' 'KR' 'KSS' 'KSU'\n",
      " 'K' 'LB' 'LEG' 'LEN' 'LH' 'LKQ' 'LLL' 'LLY' 'LMT' 'LNC' 'LNT' 'LOW'\n",
      " 'LRCX' 'LUK' 'LUV' 'LYB' 'L' 'MAA' 'MAC' 'MAR' 'MAS' 'MAT' 'MA' 'MCD'\n",
      " 'MCHP' 'MCK' 'MCO' 'MDLZ' 'MDT' 'MET' 'MGM' 'MHK' 'MKC' 'MLM' 'MMC' 'MMM'\n",
      " 'MNST' 'M' 'NAVI' 'NBL' 'NCLH' 'NDAQ' 'NEE' 'NEM' 'NFLX' 'NFX' 'NI' 'NKE'\n",
      " 'NLSN' 'NOC' 'NOV' 'NRG' 'NSC' 'NTAP' 'NTRS' 'NUE' 'NVDA' 'NWL' 'NWSA'\n",
      " 'NWS' 'OKE' 'OMC' 'ORCL' 'ORLY' 'OXY' 'O' 'PAYX' 'PBCT' 'PCAR' 'PCG'\n",
      " 'PCLN' 'PDCO' 'PEG' 'PEP' 'PFE' 'PFG' 'PGR' 'PG' 'PHM' 'PH' 'PKG' 'PKI'\n",
      " 'PLD' 'PM' 'PNC' 'PNR' 'PNW' 'PPG' 'PPL' 'PRGO' 'PRU' 'PSA' 'PSX' 'PVH'\n",
      " 'PWR' 'PXD' 'PX' 'PYPL' 'QCOM' 'QRVO' 'RCL' 'REGN' 'REG' 'RE' 'RF' 'RHI'\n",
      " 'RHT' 'RJF' 'RL' 'RMD' 'ROK' 'ROP' 'ROST' 'RRC' 'RSG' 'RTN' 'SBAC' 'SBUX'\n",
      " 'SCG' 'SCHW' 'SEE' 'SHW' 'SIG' 'SJM' 'SLB' 'SLG' 'SNA' 'SNI' 'SNPS' 'SO'\n",
      " 'SPGI' 'SPG' 'SRCL' 'SRE' 'STI' 'STT' 'STX' 'STZ' 'SWKS' 'SWK' 'SYF'\n",
      " 'SYK' 'SYMC' 'TDG' 'TEL' 'TGT' 'TIF' 'TJX' 'TMK' 'TMO' 'TPR' 'TRIP'\n",
      " 'TROW' 'TRV' 'TSCO' 'TSN' 'TSS' 'TWX' 'TXN' 'TXT' 'UAA' 'UAL' 'UA' 'UDR'\n",
      " 'UHS' 'ULTA' 'UNH' 'UNM' 'UNP' 'UPS' 'URI' 'USB' 'UTX' 'VAR' 'VFC' 'VIAB'\n",
      " 'VLO' 'VMC' 'VNO' 'VRSK' 'VRSN' 'VRTX' 'VTR' 'VZ' 'V' 'WAT' 'WBA' 'WDC'\n",
      " 'WEC' 'WFC' 'WHR' 'WLTW' 'WMB' 'WMT' 'WM' 'WRK' 'WU' 'WYNN' 'WYN' 'WY'\n",
      " 'XEC' 'XEL' 'XLNX' 'XL' 'XOM' 'XRAY' 'XRX' 'XYL' 'YUM' 'ZBH' 'ZION' 'ZTS']\n",
      "Enter Stock Price Name You want to get predicted: XYL\n"
     ]
    },
    {
     "data": {
      "text/plain": [
       "<matplotlib.axes._subplots.AxesSubplot at 0x1fb84ff9908>"
      ]
     },
     "execution_count": 3,
     "metadata": {},
     "output_type": "execute_result"
    },
    {
     "data": {
      "image/png": "[encoded data removed]",
      "text/plain": [
       "<Figure size 432x288 with 1 Axes>"
      ]
     },
     "metadata": {
      "needs_background": "light"
     },
     "output_type": "display_data"
    },
    {
     "data": {
      "image/png": "[encoded data removed]",
      "text/plain": [
       "<Figure size 432x288 with 1 Axes>"
      ]
     },
     "metadata": {
      "needs_background": "light"
     },
     "output_type": "display_data"
    }
   ],
   "source": [
    "uniqueValues = d['Name'].unique()\n",
    "print(uniqueValues )\n",
    "x=input(\"Enter Stock Price Name You want to get predicted: \")\n",
    "d1=d['Name']==x\n",
    "d2=d[d1]\n",
    "d2.plot('date','close')\n",
    "main=d2.head(60)\n",
    "main.plot('date','close')"
   ]
  },
  {
   "cell_type": "code",
   "execution_count": 4,
   "metadata": {},
   "outputs": [],
   "source": [
    "data = d2.filter(['close'])\n",
    "dataset = data.values\n",
    "training_data_len = math.ceil(len(dataset) *.7)\n",
    "scaler = MinMaxScaler(feature_range=(0, 1))\n",
    "scaled_data = scaler.fit_transform(dataset)"
   ]
  },
  {
   "cell_type": "code",
   "execution_count": 5,
   "metadata": {},
   "outputs": [],
   "source": [
    "train_data = scaled_data[0:training_data_len  , : ]\n",
    "x_train=[]\n",
    "y_train = []\n",
    "for i in range(60,len(train_data)):\n",
    "    x_train.append(train_data[i-60:i,0])\n",
    "    y_train.append(train_data[i,0])"
   ]
  },
  {
   "cell_type": "code",
   "execution_count": 6,
   "metadata": {},
   "outputs": [],
   "source": [
    "x_train, y_train = np.array(x_train), np.array(y_train)\n",
    "x_train = np.reshape(x_train, (x_train.shape[0],x_train.shape[1],1))\n"
   ]
  },
  {
   "cell_type": "code",
   "execution_count": 7,
   "metadata": {},
   "outputs": [],
   "source": [
    "model = Sequential()\n",
    "model.add(LSTM(units=50, return_sequences=True,input_shape=(x_train.shape[1],1)))\n",
    "model.add(LSTM(units=50, return_sequences=False))\n",
    "model.add(Dense(units=25))\n",
    "model.add(Dense(units=1))"
   ]
  },
  {
   "cell_type": "code",
   "execution_count": 8,
   "metadata": {},
   "outputs": [
    {
     "name": "stdout",
     "output_type": "stream",
     "text": [
      "WARNING:tensorflow:From C:\\Users\\dell\\anaconda3\\lib\\site-packages\\keras\\backend\\tensorflow_backend.py:422: The name tf.global_variables is deprecated. Please use tf.compat.v1.global_variables instead.\n",
      "\n",
      "Epoch 1/1\n",
      "822/822 [==============================] - 63s 76ms/step - loss: 8.4555e-04\n"
     ]
    },
    {
     "data": {
      "text/plain": [
       "<keras.callbacks.callbacks.History at 0x1fb887d1d88>"
      ]
     },
     "execution_count": 8,
     "metadata": {},
     "output_type": "execute_result"
    }
   ],
   "source": [
    "model.compile(optimizer='adam', loss='mean_squared_error')\n",
    "model.fit(x_train, y_train, batch_size=1, epochs=1)"
   ]
  },
  {
   "cell_type": "code",
   "execution_count": 9,
   "metadata": {},
   "outputs": [],
   "source": [
    "test_data = scaled_data[training_data_len - 60: , : ]\n",
    "x_test = []\n",
    "y_test =  dataset[training_data_len : , : ]\n",
    "for i in range(60,len(test_data)):\n",
    "    x_test.append(test_data[i-60:i,0])"
   ]
  },
  {
   "cell_type": "code",
   "execution_count": 10,
   "metadata": {},
   "outputs": [],
   "source": [
    "x_test = np.array(x_test)\n",
    "x_test = np.reshape(x_test, (x_test.shape[0],x_test.shape[1],1))\n",
    "predictions = model.predict(x_test)\n",
    "predictions = scaler.inverse_transform(predictions)"
   ]
  },
  {
   "cell_type": "code",
   "execution_count": 11,
   "metadata": {},
   "outputs": [
    {
     "data": {
      "text/plain": [
       "3.1488223825006623"
      ]
     },
     "execution_count": 11,
     "metadata": {},
     "output_type": "execute_result"
    }
   ],
   "source": [
    "rmse=np.sqrt(np.mean(((predictions- y_test)**2)))\n",
    "rmse"
   ]
  },
  {
   "cell_type": "code",
   "execution_count": 12,
   "metadata": {},
   "outputs": [
    {
     "name": "stderr",
     "output_type": "stream",
     "text": [
      "C:\\Users\\dell\\anaconda3\\lib\\site-packages\\ipykernel_launcher.py:3: SettingWithCopyWarning: \n",
      "A value is trying to be set on a copy of a slice from a DataFrame.\n",
      "Try using .loc[row_indexer,col_indexer] = value instead\n",
      "\n",
      "See the caveats in the documentation: https://pandas.pydata.org/pandas-docs/stable/user_guide/indexing.html#returning-a-view-versus-a-copy\n",
      "  This is separate from the ipykernel package so we can avoid doing imports until\n"
     ]
    },
    {
     "data": {
      "image/png": "[encoded data removed]",
      "text/plain": [
       "<Figure size 432x288 with 1 Axes>"
      ]
     },
     "metadata": {
      "needs_background": "light"
     },
     "output_type": "display_data"
    }
   ],
   "source": [
    "train = data[:training_data_len]\n",
    "valid = data[training_data_len:]\n",
    "valid['Predictions'] = predictions\n",
    "plt.title('Model')\n",
    "plt.xlabel('Date')\n",
    "plt.ylabel('Close')\n",
    "plt.plot(train['close'])\n",
    "plt.plot(valid[['close', 'Predictions']])\n",
    "plt.legend(['Train', 'Val', 'Predictions'], loc='lower right')\n",
    "plt.show()"
   ]
  },
  {
   "cell_type": "code",
   "execution_count": 13,
   "metadata": {},
   "outputs": [
    {
     "data": {
      "text/html": [
       "<div>\n",
       "<style scoped>\n",
       "    .dataframe tbody tr th:only-of-type {\n",
       "        vertical-align: middle;\n",
       "    }\n",
       "\n",
       "    .dataframe tbody tr th {\n",
       "        vertical-align: top;\n",
       "    }\n",
       "\n",
       "    .dataframe thead th {\n",
       "        text-align: right;\n",
       "    }\n",
       "</style>\n",
       "<table border=\"1\" class=\"dataframe\">\n",
       "  <thead>\n",
       "    <tr style=\"text-align: right;\">\n",
       "      <th></th>\n",
       "      <th>close</th>\n",
       "      <th>Predictions</th>\n",
       "    </tr>\n",
       "  </thead>\n",
       "  <tbody>\n",
       "    <tr>\n",
       "      <th>537024</th>\n",
       "      <td>47.89</td>\n",
       "      <td>45.301888</td>\n",
       "    </tr>\n",
       "    <tr>\n",
       "      <th>537025</th>\n",
       "      <td>48.54</td>\n",
       "      <td>45.429241</td>\n",
       "    </tr>\n",
       "    <tr>\n",
       "      <th>537026</th>\n",
       "      <td>48.45</td>\n",
       "      <td>45.628399</td>\n",
       "    </tr>\n",
       "    <tr>\n",
       "      <th>537027</th>\n",
       "      <td>50.32</td>\n",
       "      <td>45.825706</td>\n",
       "    </tr>\n",
       "    <tr>\n",
       "      <th>537028</th>\n",
       "      <td>50.20</td>\n",
       "      <td>46.217411</td>\n",
       "    </tr>\n",
       "    <tr>\n",
       "      <th>...</th>\n",
       "      <td>...</td>\n",
       "      <td>...</td>\n",
       "    </tr>\n",
       "    <tr>\n",
       "      <th>537396</th>\n",
       "      <td>74.84</td>\n",
       "      <td>69.045471</td>\n",
       "    </tr>\n",
       "    <tr>\n",
       "      <th>537397</th>\n",
       "      <td>75.66</td>\n",
       "      <td>69.257225</td>\n",
       "    </tr>\n",
       "    <tr>\n",
       "      <th>537398</th>\n",
       "      <td>72.66</td>\n",
       "      <td>69.635048</td>\n",
       "    </tr>\n",
       "    <tr>\n",
       "      <th>537399</th>\n",
       "      <td>71.33</td>\n",
       "      <td>69.671898</td>\n",
       "    </tr>\n",
       "    <tr>\n",
       "      <th>537400</th>\n",
       "      <td>71.79</td>\n",
       "      <td>69.404167</td>\n",
       "    </tr>\n",
       "  </tbody>\n",
       "</table>\n",
       "<p>377 rows × 2 columns</p>\n",
       "</div>"
      ],
      "text/plain": [
       "        close  Predictions\n",
       "537024  47.89    45.301888\n",
       "537025  48.54    45.429241\n",
       "537026  48.45    45.628399\n",
       "537027  50.32    45.825706\n",
       "537028  50.20    46.217411\n",
       "...       ...          ...\n",
       "537396  74.84    69.045471\n",
       "537397  75.66    69.257225\n",
       "537398  72.66    69.635048\n",
       "537399  71.33    69.671898\n",
       "537400  71.79    69.404167\n",
       "\n",
       "[377 rows x 2 columns]"
      ]
     },
     "execution_count": 13,
     "metadata": {},
     "output_type": "execute_result"
    }
   ],
   "source": [
    "valid"
   ]
  }
 ],
 "metadata": {
  "kernelspec": {
   "display_name": "Python 3",
   "language": "python",
   "name": "python3"
  },
  "language_info": {
   "codemirror_mode": {
    "name": "ipython",
    "version": 3
   },
   "file_extension": ".py",
   "mimetype": "text/x-python",
   "name": "python",
   "nbconvert_exporter": "python",
   "pygments_lexer": "ipython3",
   "version": "3.7.6"
  }
 },
 "nbformat": 4,
 "nbformat_minor": 4
}
